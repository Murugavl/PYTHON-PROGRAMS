{
  "nbformat": 4,
  "nbformat_minor": 0,
  "metadata": {
    "colab": {
      "provenance": [],
      "authorship_tag": "ABX9TyMsXX3PDi4p1cnWjZrrfdHv",
      "include_colab_link": true
    },
    "kernelspec": {
      "name": "python3",
      "display_name": "Python 3"
    },
    "language_info": {
      "name": "python"
    }
  },
  "cells": [
    {
      "cell_type": "markdown",
      "metadata": {
        "id": "view-in-github",
        "colab_type": "text"
      },
      "source": [
        "<a href=\"https://colab.research.google.com/github/Murugavl/PYTHON-PROGRAMS/blob/main/Python_py.ipynb\" target=\"_parent\"><img src=\"https://colab.research.google.com/assets/colab-badge.svg\" alt=\"Open In Colab\"/></a>"
      ]
    },
    {
      "cell_type": "code",
      "source": [
        "a=int(input(\"Enter the value of a: \"))\n",
        "b=int(input(\"Enter the value of b: \"))\n",
        "c=a+b\n",
        "print(\"The value of c is: \",c)"
      ],
      "metadata": {
        "colab": {
          "base_uri": "https://localhost:8080/"
        },
        "id": "UiJNTo7AWtkW",
        "outputId": "b9592f98-054a-434f-fa57-f21c46aa29af"
      },
      "execution_count": null,
      "outputs": [
        {
          "output_type": "stream",
          "name": "stdout",
          "text": [
            "Enter the value of a: 9\n",
            "Enter the value of b: 5\n",
            "The value of c is:  14\n"
          ]
        }
      ]
    },
    {
      "cell_type": "code",
      "source": [
        "name=input(\"Enter your name: \")\n",
        "age=input(\"Enter your age: \")\n",
        "degree=input(\"Enter your Qualification:\")\n",
        "job=input(\"Enter your job: \")\n",
        "print(\"\\nNAME          : \",name)\n",
        "print(\"AGE           : \",age)\n",
        "print(\"QUALIFICATION : \",degree)\n",
        "print(\"JOB           : \",job)"
      ],
      "metadata": {
        "colab": {
          "base_uri": "https://localhost:8080/"
        },
        "id": "1bzBToISfvwn",
        "outputId": "55484633-b778-483a-9765-479eb5107415"
      },
      "execution_count": null,
      "outputs": [
        {
          "output_type": "stream",
          "name": "stdout",
          "text": [
            "Enter your name: MURUGAVEL\n",
            "Enter your age: 19\n",
            "Enter your Qualification:B.Tech AI&DS\n",
            "Enter your job: DATA SCIENTIST\n",
            "\n",
            "NAME          :  MURUGAVEL\n",
            "AGE           :  19\n",
            "QUALIFICATION :  B.Tech AI&DS\n",
            "JOB           :  DATA SCIENTIST\n"
          ]
        }
      ]
    },
    {
      "cell_type": "code",
      "source": [
        "name=input(\"Enter your name  : \")\n",
        "reg_no=input(\"Enter your Reg_no: \")\n",
        "mark1=int(input(\"Enter your mark1 : \"))\n",
        "mark2=int(input(\"Enter your mark2 : \"))\n",
        "mark3=int(input(\"Enter your mark3 : \"))\n",
        "mark4=int(input(\"Enter your mark4 : \"))\n",
        "total=mark1+mark2+mark3+mark4\n",
        "average=total/4\n",
        "print(\"\\nNAME    : \",name)\n",
        "print(\"Reg_no  : \",reg_no)\n",
        "print(\"TOTAL   : \",total)\n",
        "print(\"AVERAGE : \",average)"
      ],
      "metadata": {
        "colab": {
          "base_uri": "https://localhost:8080/"
        },
        "id": "ATHS1ueTh06M",
        "outputId": "ffcda188-fd30-4ea6-f3bc-27ac901d5280"
      },
      "execution_count": null,
      "outputs": [
        {
          "output_type": "stream",
          "name": "stdout",
          "text": [
            "Enter your name  : MURUGAVBEL\n",
            "Enter your Reg_no: 720922108041\n",
            "Enter your mark1 : 99\n",
            "Enter your mark2 : 98\n",
            "Enter your mark3 : 99\n",
            "Enter your mark4 : 98\n",
            "\n",
            "NAME    :  MURUGAVBEL\n",
            "Reg_no  :  720922108041\n",
            "TOTAL   :  394\n",
            "AVERAGE :  98.5\n"
          ]
        }
      ]
    },
    {
      "cell_type": "code",
      "source": [
        "name=input(\"Enter your name:\")\n",
        "reg_no=eval(input(\"Etner your Reg_no:\"))\n",
        "maths=eval(input(\"Enter your maths mark:\"))\n",
        "physics=eval(input(\"Enter your physics mark:\"))\n",
        "chemistry=eval(input(\"Enter your chemistry mark:\"))\n",
        "cutoff=maths+((physics+chemistry)/2)\n",
        "print(\"\\nName    : \",name)\n",
        "print(\"Reg_no  : \",reg_no)\n",
        "print(\"Cut-off : \",cutoff)\n",
        "if(cutoff>=180):\n",
        "  print(\"\\nYou are Eligible for Get an Admission\")\n",
        "else:\n",
        "  print(\"\\nYou are Not Eligible for Get an Admission\")"
      ],
      "metadata": {
        "colab": {
          "base_uri": "https://localhost:8080/"
        },
        "id": "SNl4BOOalFEF",
        "outputId": "116d4873-f81d-4b6e-d101-2bac1695652e"
      },
      "execution_count": 2,
      "outputs": [
        {
          "output_type": "stream",
          "name": "stdout",
          "text": [
            "Enter your name:vel\n",
            "Etner your Reg_no:41\n",
            "Enter your maths mark:98\n",
            "Enter your physics mark:98\n",
            "Enter your chemistry mark:92\n",
            "\n",
            "Name    :  vel\n",
            "Reg_no  :  41\n",
            "Cut-off :  193.0\n",
            "\n",
            "You are Eligible for Get an Admission\n"
          ]
        }
      ]
    },
    {
      "cell_type": "code",
      "source": [
        "diameter=eval(input(\"Enter the diameter of circle: \"))\n",
        "radius=diameter/2\n",
        "length=eval(input(\"Enter the length of box: \"))\n",
        "area_of_circle=3.14*radius*radius\n",
        "area_of_square=length*length\n",
        "area_of_shared_region=area_of_square-area_of_circle\n",
        "print(\"Radius of the Circle: \",radius)\n",
        "print(\"Length of Sqaure Box: \",length)\n",
        "print(\"Area of the 'Empty Part'of the Box\",area_of_shared_region)"
      ],
      "metadata": {
        "colab": {
          "base_uri": "https://localhost:8080/"
        },
        "id": "rFlhKE_2oOCl",
        "outputId": "52a86036-09d5-44ff-c66a-8fe92d9e73a8"
      },
      "execution_count": 4,
      "outputs": [
        {
          "output_type": "stream",
          "name": "stdout",
          "text": [
            "Enter the diameter of circle: 10\n",
            "Enter the length of box: 20\n",
            "Radius of the Circle:  5.0\n",
            "Length of Sqaure Box:  20\n",
            "Area of the 'Empty Part'of the Box 321.5\n"
          ]
        }
      ]
    },
    {
      "cell_type": "code",
      "source": [
        "num1=eval(input(\"Enter the 1st number:\"))\n",
        "num2=eval(input(\"Enter the 2nd number:\"))\n",
        "print(\"\\nBefore Swapping\")\n",
        "print(\"1st number= \",num1,\"\\n2nd number= \",num2)\n",
        "num3=num1\n",
        "num1=num2\n",
        "num2=num3\n",
        "print(\"\\nAfter Swapping\")\n",
        "print(\"1st number= \",num1,\"\\n2nd number= \",num2)"
      ],
      "metadata": {
        "colab": {
          "base_uri": "https://localhost:8080/"
        },
        "id": "FPn_y_MGqJyR",
        "outputId": "6d3601c7-1425-40b1-a850-8d123bbc00ce"
      },
      "execution_count": 7,
      "outputs": [
        {
          "output_type": "stream",
          "name": "stdout",
          "text": [
            "Enter the 1st number:10\n",
            "Enter the 2nd number:7\n",
            "\n",
            "Before Swapping\n",
            "1st number=  10 \n",
            "2nd number=  7\n",
            "\n",
            "After Swapping\n",
            "1st number=  7 \n",
            "2nd number=  10\n"
          ]
        }
      ]
    },
    {
      "cell_type": "code",
      "source": [],
      "metadata": {
        "id": "2OnGnclvrk0R"
      },
      "execution_count": null,
      "outputs": []
    }
  ]
}