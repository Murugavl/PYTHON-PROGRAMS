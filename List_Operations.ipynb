{
  "nbformat": 4,
  "nbformat_minor": 0,
  "metadata": {
    "colab": {
      "provenance": [],
      "authorship_tag": "ABX9TyPa9Ya9Rmk8EZRBSWQKSB1/",
      "include_colab_link": true
    },
    "kernelspec": {
      "name": "python3",
      "display_name": "Python 3"
    },
    "language_info": {
      "name": "python"
    }
  },
  "cells": [
    {
      "cell_type": "markdown",
      "metadata": {
        "id": "view-in-github",
        "colab_type": "text"
      },
      "source": [
        "<a href=\"https://colab.research.google.com/github/Murugavl/PYTHON-PROGRAMS/blob/main/List_Operations.ipynb\" target=\"_parent\"><img src=\"https://colab.research.google.com/assets/colab-badge.svg\" alt=\"Open In Colab\"/></a>"
      ]
    },
    {
      "cell_type": "code",
      "execution_count": 1,
      "metadata": {
        "colab": {
          "base_uri": "https://localhost:8080/"
        },
        "id": "ja5xuYo8poEH",
        "outputId": "22a685c4-fb46-43c8-f329-bdb82def4827"
      },
      "outputs": [
        {
          "output_type": "stream",
          "name": "stdout",
          "text": [
            "Empty List: []\n",
            "\n",
            "The Elements in the list are  [2, 'Python', 305]\n",
            "\n",
            "After Appending the Elements in the List are  [2, 'Python', 305, 0, 'Program']\n",
            "\n",
            "After deleting a element using pop function  [2, 'Python', 305, 0]\n",
            "\n",
            "After removing the element using remove function  ['Python', 305, 0]\n",
            "\n",
            "After Removing all the elements using clear function  []\n"
          ]
        }
      ],
      "source": [
        "#creating a empty list\n",
        "empty_list=[]\n",
        "print(\"Empty List:\",empty_list)\n",
        "#creating the list wtih elements\n",
        "List=[2,'Python',305]\n",
        "print(\"\\nThe Elements in the list are \",List)\n",
        "#appending the list\n",
        "List.append(0,)\n",
        "List.append('Program')\n",
        "print(\"\\nAfter Appending the Elements in the List are \",List)\n",
        "#deleting a element using pop function\n",
        "List.pop()\n",
        "print(\"\\nAfter deleting a element using pop function \",List)\n",
        "#deleting a element using remove function\n",
        "List.remove(2)\n",
        "print(\"\\nAfter removing the element using remove function \",List)\n",
        "#removing all the elements using clear function\n",
        "List.clear()\n",
        "print(\"\\nAfter Removing all the elements using clear function \",List)\n",
        "\n"
      ]
    }
  ]
}