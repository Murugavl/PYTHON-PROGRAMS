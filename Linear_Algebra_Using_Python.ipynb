{
  "nbformat": 4,
  "nbformat_minor": 0,
  "metadata": {
    "colab": {
      "provenance": [],
      "authorship_tag": "ABX9TyNFKSrd+ifegOI1BhY6dAla",
      "include_colab_link": true
    },
    "kernelspec": {
      "name": "python3",
      "display_name": "Python 3"
    },
    "language_info": {
      "name": "python"
    }
  },
  "cells": [
    {
      "cell_type": "markdown",
      "metadata": {
        "id": "view-in-github",
        "colab_type": "text"
      },
      "source": [
        "<a href=\"https://colab.research.google.com/github/Murugavl/PYTHON-PROGRAMS/blob/main/Linear_Algebra_Using_Python.ipynb\" target=\"_parent\"><img src=\"https://colab.research.google.com/assets/colab-badge.svg\" alt=\"Open In Colab\"/></a>"
      ]
    },
    {
      "cell_type": "code",
      "execution_count": 11,
      "metadata": {
        "colab": {
          "base_uri": "https://localhost:8080/"
        },
        "id": "wOB-exAZn3iQ",
        "outputId": "5fba4e6b-7428-4d2a-c2d9-303595d75c9c"
      },
      "outputs": [
        {
          "output_type": "stream",
          "name": "stdout",
          "text": [
            " \n",
            " The quadratic equations are 3x+4y=10 and 2x+5y=9\n",
            "\n",
            " The Values of X and Y are:  [2. 1.]\n",
            "\n",
            " The Matrix is : \n",
            " [[1 2 3]\n",
            " [4 0 6]\n",
            " [7 8 9]]\n",
            "\n",
            " The Determinent of the Matrix is :  60.0\n",
            "\n",
            " The inverse of the Matrix is : \n",
            " [[-0.8         0.1         0.2       ]\n",
            " [ 0.1        -0.2         0.1       ]\n",
            " [ 0.53333333  0.1        -0.13333333]]\n",
            "\n",
            " The Matrix Elements are: \n",
            " [[1 1 0]\n",
            " [1 2 1]\n",
            " [0 1 1]]\n",
            "\n",
            " Eigen Values are :  [ 3.00000000e+00+0.j  1.00000000e+00+0.j -3.36770206e-17+0.j]\n",
            "\n",
            " Eigen Vectors are : \n",
            " [[-4.08248290e-01  7.07106781e-01  5.77350269e-01]\n",
            " [-8.16496581e-01  2.61239546e-16 -5.77350269e-01]\n",
            " [-4.08248290e-01 -7.07106781e-01  5.77350269e-01]]\n",
            "\n",
            " Inverse of Eigen vectors: \n",
            " [[-4.08248290e-01 -8.16496581e-01 -4.08248290e-01]\n",
            " [ 7.07106781e-01  2.77555756e-16 -7.07106781e-01]\n",
            " [ 5.77350269e-01 -5.77350269e-01  5.77350269e-01]]\n",
            "\n",
            " The Singular Decomposition is \n",
            " [[ 1.00000000e+00  1.00000000e+00 -2.01275528e-17]\n",
            " [ 1.00000000e+00  2.00000000e+00  1.00000000e+00]\n",
            " [-7.95837601e-17  1.00000000e+00  1.00000000e+00]]\n"
          ]
        },
        {
          "output_type": "stream",
          "name": "stderr",
          "text": [
            "<ipython-input-11-5fae4dbfc869>:31: ComplexWarning: Casting complex values to real discards the imaginary part\n",
            "  row[index]=egvalue\n"
          ]
        }
      ],
      "source": [
        "import numpy as np\n",
        "import scipy.linalg as linalg\n",
        "\n",
        "print(\" \\n The quadratic equations are 3x+4y=10 and 2x+5y=9\")\n",
        "a=np.array([[3,4],[2,5]]) # we represent the coefficient values of x and y in one array\n",
        "b=np.array([10,9])  # we represent the solution values in the another array\n",
        "# to calculate the value of x and y values\n",
        "print(\"\\n The Values of X and Y are: \",linalg.solve(a,b))\n",
        "\n",
        "#to find the determinent fo the matrix\n",
        "a1=np.array([[1,2,3],[4,0,6],[7,8,9]])\n",
        "print(\"\\n The Matrix is : \\n\",a1)\n",
        "print(\"\\n The Determinent of the Matrix is : \",linalg.det(a1))\n",
        "\n",
        "#to find the inverse of the matrix\n",
        "print(\"\\n The inverse of the Matrix is : \\n\",linalg.inv(a1))\n",
        "\n",
        "#to find eigen value and eigen vector\n",
        "a=np.array([[1, 1,0], [1, 2,1],[0,1,1]])\n",
        "print(\"\\n The Matrix Elements are: \\n\",a)\n",
        "eigen_value, eigen_vector=linalg.eig(a)\n",
        "print(\"\\n Eigen Values are : \",eigen_value)\n",
        "print(\"\\n Eigen Vectors are : \\n\",eigen_vector)\n",
        "#to find singular value decomposition\n",
        "p=eigen_vector\n",
        "pinverse=np.linalg.inv(eigen_vector)\n",
        "print(\"\\n Inverse of Eigen vectors: \\n\",linalg.inv(eigen_vector))\n",
        "d=[]\n",
        "for index, egvalue in enumerate (eigen_value) :\n",
        "      row=np.zeros((3,))\n",
        "      row[index]=egvalue\n",
        "      d.append(row)\n",
        "d=np.array(d)\n",
        "print(\"\\n The Singular Decomposition is \\n\",p@d@pinverse)"
      ]
    }
  ]
}