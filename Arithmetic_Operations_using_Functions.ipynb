{
  "nbformat": 4,
  "nbformat_minor": 0,
  "metadata": {
    "colab": {
      "provenance": [],
      "mount_file_id": "1JS2x67Ly95pUz5mLP5n_yTz5XTDp1uZ_",
      "authorship_tag": "ABX9TyM9hG/EO46xzLx7FBylVA7t",
      "include_colab_link": true
    },
    "kernelspec": {
      "name": "python3",
      "display_name": "Python 3"
    },
    "language_info": {
      "name": "python"
    }
  },
  "cells": [
    {
      "cell_type": "markdown",
      "metadata": {
        "id": "view-in-github",
        "colab_type": "text"
      },
      "source": [
        "<a href=\"https://colab.research.google.com/github/Murugavl/PYTHON-PROGRAMS/blob/main/Arithmetic_Operations_using_Functions.ipynb\" target=\"_parent\"><img src=\"https://colab.research.google.com/assets/colab-badge.svg\" alt=\"Open In Colab\"/></a>"
      ]
    },
    {
      "cell_type": "code",
      "execution_count": null,
      "metadata": {
        "colab": {
          "base_uri": "https://localhost:8080/"
        },
        "id": "5zOPNONSwrIE",
        "outputId": "ec22ea54-2029-4404-9980-e05b5ee19bdd"
      },
      "outputs": [
        {
          "output_type": "stream",
          "name": "stdout",
          "text": [
            "Enter the 1st value: 10\n",
            "Enter the 2nd value: 6\n",
            "\n",
            "ARTIHMETIC OPERATIONS\n",
            "The Addition of 10 and 6 is        16\n",
            "The Subtraction of 10 and 6 is     4\n",
            "The MUltiplicaiton of 10 and 6 is  60\n",
            "The Division of 10 and 6 is        1.6666666666666667\n",
            "The Remainder of 10 and 6 is       4\n"
          ]
        }
      ],
      "source": [
        "num1=eval(input(\"Enter the 1st value: \"))\n",
        "num2=eval(input(\"Enter the 2nd value: \"))\n",
        "def add(num1,num2):\n",
        "  print(\"The Addition of\",num1,\"and\",num2,\"is       \",(num1+num2))\n",
        "def sub(num1,num2):\n",
        "  print(\"The Subtraction of\",num1,\"and\",num2,\"is    \",(num1-num2))\n",
        "def mul(num1,num2):\n",
        "  print(\"The MUltiplicaiton of\",num1,\"and\",num2,\"is \",(num1*num2))\n",
        "def div(num1,num2):\n",
        "  print(\"The Division of\",num1,\"and\",num2,\"is       \",(num1/num2))\n",
        "def rem(num1,num2):\n",
        "  print(\"The Remainder of\",num1,\"and\",num2,\"is      \",(num1%num2))\n",
        "print(\"\\nARTIHMETIC OPERATIONS\")\n",
        "add(num1,num2)\n",
        "sub(num1,num2)\n",
        "mul(num1,num2)\n",
        "div(num1,num2)\n",
        "rem(num1,num2)"
      ]
    }
  ]
}