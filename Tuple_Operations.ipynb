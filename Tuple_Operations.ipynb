{
  "nbformat": 4,
  "nbformat_minor": 0,
  "metadata": {
    "colab": {
      "provenance": [],
      "authorship_tag": "ABX9TyPy5AO82RErokiz2vSQtJ8K",
      "include_colab_link": true
    },
    "kernelspec": {
      "name": "python3",
      "display_name": "Python 3"
    },
    "language_info": {
      "name": "python"
    }
  },
  "cells": [
    {
      "cell_type": "markdown",
      "metadata": {
        "id": "view-in-github",
        "colab_type": "text"
      },
      "source": [
        "<a href=\"https://colab.research.google.com/github/Murugavl/PYTHON-PROGRAMS/blob/main/Tuple_Operations.ipynb\" target=\"_parent\"><img src=\"https://colab.research.google.com/assets/colab-badge.svg\" alt=\"Open In Colab\"/></a>"
      ]
    },
    {
      "cell_type": "code",
      "execution_count": 6,
      "metadata": {
        "colab": {
          "base_uri": "https://localhost:8080/"
        },
        "id": "6IOqkbRaqvVe",
        "outputId": "db322a4e-7d11-4ba0-d82f-b4ab20561989"
      },
      "outputs": [
        {
          "output_type": "stream",
          "name": "stdout",
          "text": [
            "\n",
            " Empty Tuple is:  ()\n",
            "\n",
            " The Element in the Tuple is  10\n",
            "\n",
            " The Elements in the Tuple are  (20, 'Python', 30, 'Program', 305)\n",
            "\n",
            " The Length of the Tuple is:  5\n",
            "\n",
            " Tuple Elements:  (10, 20, 60, 70, 1, 5, 0, 100, 69)\n",
            "\n",
            " The Maximum number in the Tuple is:  100\n",
            "\n",
            " The Minimum number in the Tuple is:  0\n",
            "\n",
            " The String is:  TUPLE\n",
            "\n",
            " After converting string into tuple:  ('T', 'U', 'P', 'L', 'E')\n",
            "\n",
            " The List is:  [1, 2, 3, 4, 5]\n",
            "\n",
            " After converting List into tuple:  [1, 2, 3, 4, 5]\n"
          ]
        }
      ],
      "source": [
        "#creating a empty tuple\n",
        "empty_tuple=()\n",
        "print(\"\\n Empty Tuple is: \",empty_tuple)\n",
        "#creating a single element in tuple\n",
        "Tuple=(10)\n",
        "print(\"\\n The Element in the Tuple is \",Tuple)\n",
        "#creating a multiple elements in tuple\n",
        "my_tuple=(20,'Python',30,'Program',305)\n",
        "print(\"\\n The Elements in the Tuple are \",my_tuple)\n",
        "#to find the length of the tuple\n",
        "print(\"\\n The Length of the Tuple is: \",len(my_tuple))\n",
        "#to find the minimum and maximum number in the tuple\n",
        "t1=(10,20,60,70,1,5,0,100,69)\n",
        "print(\"\\n Tuple Elements: \",t1)\n",
        "print(\"\\n The Maximum number in the Tuple is: \",max(t1))\n",
        "print(\"\\n The Minimum number in the Tuple is: \",min(t1))\n",
        "#converting the string into tuple\n",
        "str='TUPLE'\n",
        "t2=tuple(str)\n",
        "print(\"\\n The String is: \",str)\n",
        "print(\"\\n After converting string into tuple: \",t2)\n",
        "#converting the list into tuple\n",
        "L=[1,2,3,4,5]\n",
        "T1=tuple(L)\n",
        "print(\"\\n The List is: \",L)\n",
        "print(\"\\n After converting List into tuple: \",L)\n",
        "\n",
        "\n"
      ]
    }
  ]
}