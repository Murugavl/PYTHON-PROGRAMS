{
  "nbformat": 4,
  "nbformat_minor": 0,
  "metadata": {
    "colab": {
      "provenance": [],
      "authorship_tag": "ABX9TyPHd8dEbNDs51No0rZizLTt",
      "include_colab_link": true
    },
    "kernelspec": {
      "name": "python3",
      "display_name": "Python 3"
    },
    "language_info": {
      "name": "python"
    }
  },
  "cells": [
    {
      "cell_type": "markdown",
      "metadata": {
        "id": "view-in-github",
        "colab_type": "text"
      },
      "source": [
        "<a href=\"https://colab.research.google.com/github/Murugavl/PYTHON-PROGRAMS/blob/main/Cut_Off_Finding.ipynb\" target=\"_parent\"><img src=\"https://colab.research.google.com/assets/colab-badge.svg\" alt=\"Open In Colab\"/></a>"
      ]
    },
    {
      "cell_type": "code",
      "execution_count": 3,
      "metadata": {
        "colab": {
          "base_uri": "https://localhost:8080/"
        },
        "id": "ZqV21U6czPV3",
        "outputId": "55d2d1ef-98e0-46ba-a884-1e9c60225960"
      },
      "outputs": [
        {
          "output_type": "stream",
          "name": "stdout",
          "text": [
            "Enter your name:Vel\n",
            "Etner your Reg_no:41\n",
            "Enter your maths mark:100\n",
            "Enter your physics mark:92\n",
            "Enter your chemistry mark:92\n",
            "\n",
            "\t\t STUDENT DETAILS\n",
            "\t\t ----------------\n",
            "\n",
            "\t\tName    :  Vel\n",
            "\t\tReg_no  :  41\n",
            "\t\tCut-off :  192.0\n",
            "\n",
            "\tYou are Eligible for Get an Admission\n"
          ]
        }
      ],
      "source": [
        "name=input(\"Enter your name:\")\n",
        "reg_no=eval(input(\"Etner your Reg_no:\"))\n",
        "maths=eval(input(\"Enter your maths mark:\"))\n",
        "physics=eval(input(\"Enter your physics mark:\"))\n",
        "chemistry=eval(input(\"Enter your chemistry mark:\"))\n",
        "cutoff=maths+((physics+chemistry)/2)\n",
        "print(\"\\n\\t\\t STUDENT DETAILS\")\n",
        "print(\"\\t\\t ----------------\")\n",
        "print(\"\\n\\t\\tName    : \",name)\n",
        "print(\"\\t\\tReg_no  : \",reg_no)\n",
        "print(\"\\t\\tCut-off : \",cutoff)\n",
        "if(cutoff>=180):\n",
        "  print(\"\\n\\tYou are Eligible for Get an Admission\")\n",
        "else:\n",
        "  print(\"\\n\\tYou are Not Eligible for Get an Admission\")"
      ]
    }
  ]
}